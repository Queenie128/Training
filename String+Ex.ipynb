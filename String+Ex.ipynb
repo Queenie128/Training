{
 "cells": [
  {
   "cell_type": "code",
   "execution_count": 75,
   "metadata": {
    "collapsed": true
   },
   "outputs": [],
   "source": [
    "def donuts(count):\n",
    "    if count <10:\n",
    "        print (\"Number of donuts: %s\" %count)\n",
    "    else:\n",
    "        print (\"Number of donuts: many\")\n",
    "   "
   ]
  },
  {
   "cell_type": "code",
   "execution_count": 76,
   "metadata": {
    "collapsed": false
   },
   "outputs": [],
   "source": [
    "def both_ends(s):\n",
    "    x = len(s)\n",
    "    if x<=2:\n",
    "        print(\"\")\n",
    "    else:\n",
    "        print(s[0:2]+s[x-2:x])"
   ]
  },
  {
   "cell_type": "code",
   "execution_count": 77,
   "metadata": {
    "collapsed": true
   },
   "outputs": [],
   "source": [
    "def fix_start(s):\n",
    "    i = len(s)\n",
    "    x = s[0]\n",
    "    y = s[1:i]\n",
    "    print (x+y.replace(x,'*'))\n",
    "    "
   ]
  },
  {
   "cell_type": "code",
   "execution_count": 78,
   "metadata": {
    "collapsed": true
   },
   "outputs": [],
   "source": [
    "def mix_up (a,b):\n",
    "    \n",
    "    a1 = a[0:2]\n",
    "    a2 = a[2:len(a)]\n",
    "    \n",
    "    b1 = b[0:2]\n",
    "    b2 = b[2:len(b)] \n",
    "    \n",
    "    print (b1+a2+\" \"+a1+b2)\n"
   ]
  },
  {
   "cell_type": "code",
   "execution_count": 79,
   "metadata": {
    "collapsed": true
   },
   "outputs": [],
   "source": [
    "def test(got, expected):\n",
    "    prefix = 'OK' if got == expected else ' X'\n",
    "    # !r prints a Python representation of the strings (complete with quotes)\n",
    "    print ' {} got: {!r} expected: {!r}'.format(prefix, got, expected)\n"
   ]
  },
  {
   "cell_type": "code",
   "execution_count": 80,
   "metadata": {
    "collapsed": true
   },
   "outputs": [],
   "source": [
    "def main():\n",
    "    print 'donuts'\n",
    "    # Each line calls donuts, compares its result to the expected for that call.\n",
    "    test(donuts(4), 'Number of donuts: 4')\n",
    "    test(donuts(9), 'Number of donuts: 9')\n",
    "    test(donuts(10), 'Number of donuts: many')\n",
    "    test(donuts(99), 'Number of donuts: many')\n",
    "\n",
    "    print\n",
    "    print 'both_ends'\n",
    "    test(both_ends('spring'), 'spng')\n",
    "    test(both_ends('Hello'), 'Helo')\n",
    "    test(both_ends('a'), '')\n",
    "    test(both_ends('xyz'), 'xyyz')\n",
    "\n",
    "  \n",
    "    print\n",
    "    print 'fix_start'\n",
    "    test(fix_start('babble'), 'ba**le')\n",
    "    test(fix_start('aardvark'), 'a*rdv*rk')\n",
    "    test(fix_start('google'), 'goo*le')\n",
    "    test(fix_start('donut'), 'donut')\n",
    "\n",
    "    print\n",
    "    print 'mix_up'\n",
    "    test(mix_up('mix', 'pod'), 'pox mid')\n",
    "    test(mix_up('dog', 'dinner'), 'dig donner')\n",
    "    test(mix_up('gnash', 'sport'), 'spash gnort')\n",
    "    test(mix_up('pezzy', 'firm'), 'fizzy perm')\n"
   ]
  },
  {
   "cell_type": "code",
   "execution_count": 81,
   "metadata": {
    "collapsed": false
   },
   "outputs": [
    {
     "name": "stdout",
     "output_type": "stream",
     "text": [
      "donuts\n",
      "Number of donuts: 4\n",
      "  X got: None expected: 'Number of donuts: 4'\n",
      "Number of donuts: 9\n",
      "  X got: None expected: 'Number of donuts: 9'\n",
      "Number of donuts: many\n",
      "  X got: None expected: 'Number of donuts: many'\n",
      "Number of donuts: many\n",
      "  X got: None expected: 'Number of donuts: many'\n",
      "\n",
      "both_ends\n",
      "spng\n",
      "  X got: None expected: 'spng'\n",
      "Helo\n",
      "  X got: None expected: 'Helo'\n",
      "\n",
      "  X got: None expected: ''\n",
      "xyyz\n",
      "  X got: None expected: 'xyyz'\n",
      "\n",
      "fix_start\n",
      "ba**le\n",
      "  X got: None expected: 'ba**le'\n",
      "a*rdv*rk\n",
      "  X got: None expected: 'a*rdv*rk'\n",
      "goo*le\n",
      "  X got: None expected: 'goo*le'\n",
      "donut\n",
      "  X got: None expected: 'donut'\n",
      "\n",
      "mix_up\n",
      "pox mid\n",
      "  X got: None expected: 'pox mid'\n",
      "dig donner\n",
      "  X got: None expected: 'dig donner'\n",
      "spash gnort\n",
      "  X got: None expected: 'spash gnort'\n",
      "fizzy perm\n",
      "  X got: None expected: 'fizzy perm'\n"
     ]
    }
   ],
   "source": [
    "main()"
   ]
  },
  {
   "cell_type": "code",
   "execution_count": 110,
   "metadata": {
    "collapsed": false
   },
   "outputs": [],
   "source": [
    "def verbing(s):\n",
    "    suffix1=\"ly\"\n",
    "    suffix2=\"ing\"\n",
    "    if len(s)>=3:\n",
    "        if s[len(s)-3:len(s)]=='ing':\n",
    "            print(s+suffix1)\n",
    "        else: \n",
    "            print(s+suffix2)\n",
    "    else:\n",
    "        print(s)"
   ]
  }
 ],
 "metadata": {
  "kernelspec": {
   "display_name": "Python 2",
   "language": "python",
   "name": "python2"
  },
  "language_info": {
   "codemirror_mode": {
    "name": "ipython",
    "version": 2
   },
   "file_extension": ".py",
   "mimetype": "text/x-python",
   "name": "python",
   "nbconvert_exporter": "python",
   "pygments_lexer": "ipython2",
   "version": "2.7.13"
  }
 },
 "nbformat": 4,
 "nbformat_minor": 2
}
